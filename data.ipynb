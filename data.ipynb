{
 "cells": [
  {
   "cell_type": "code",
   "execution_count": 3,
   "id": "4fe35c54",
   "metadata": {},
   "outputs": [
    {
     "name": "stdout",
     "output_type": "stream",
     "text": [
      "Shape: (506, 13)\n",
      "\n",
      "Data Sample:\n",
      "   Fault ID           Fault Type Fault Location (Latitude, Longitude)  \\\n",
      "0     F001        Line Breakage                 (34.0522, -118.2437)   \n",
      "1     F002  Transformer Failure                   (34.056, -118.245)   \n",
      "2     F003          Overheating                  (34.0525, -118.244)   \n",
      "3     F004        Line Breakage                   (34.055, -118.242)   \n",
      "4     F005  Transformer Failure                  (34.0545, -118.243)   \n",
      "\n",
      "   Voltage (V)  Current (A)  Power Load (MW)  Temperature (°C)  \\\n",
      "0         2200          250               50                25   \n",
      "1         1800          180               45                28   \n",
      "2         2100          230               55                35   \n",
      "3         2050          240               48                23   \n",
      "4         1900          190               50                30   \n",
      "\n",
      "   Wind Speed (km/h) Weather Condition Maintenance Status Component Health  \\\n",
      "0                 20             Clear          Scheduled           Normal   \n",
      "1                 15             Rainy          Completed           Faulty   \n",
      "2                 25         Windstorm            Pending       Overheated   \n",
      "3                 10             Clear          Completed           Normal   \n",
      "4                 18             Snowy          Scheduled           Faulty   \n",
      "\n",
      "   Duration of Fault (hrs)  Down time (hrs)  \n",
      "0                      2.0              1.0  \n",
      "1                      3.0              5.0  \n",
      "2                      4.0              6.0  \n",
      "3                      2.5              3.0  \n",
      "4                      3.5              4.0  \n",
      "\n",
      "Classification Report:\n",
      "               precision    recall  f1-score   support\n",
      "\n",
      "           0       0.26      0.23      0.24        39\n",
      "           1       0.33      0.34      0.33        44\n",
      "           2       0.37      0.39      0.38        44\n",
      "\n",
      "    accuracy                           0.32       127\n",
      "   macro avg       0.32      0.32      0.32       127\n",
      "weighted avg       0.32      0.32      0.32       127\n",
      "\n"
     ]
    },
    {
     "name": "stderr",
     "output_type": "stream",
     "text": [
      "C:\\Users\\Anish\\AppData\\Local\\Temp\\ipykernel_10180\\1740563536.py:27: FutureWarning: DataFrame.fillna with 'method' is deprecated and will raise in a future version. Use obj.ffill() or obj.bfill() instead.\n",
      "  df.fillna(method='ffill', inplace=True)\n"
     ]
    },
    {
     "data": {
      "image/png": "[encoded data removed]",
      "text/plain": [
       "<Figure size 800x500 with 2 Axes>"
      ]
     },
     "metadata": {},
     "output_type": "display_data"
    }
   ],
   "source": [
    "import pandas as pd\n",
    "import seaborn as sns\n",
    "from sklearn.model_selection import train_test_split\n",
    "from sklearn.preprocessing import LabelEncoder, StandardScaler\n",
    "from sklearn.ensemble import RandomForestClassifier\n",
    "from sklearn.metrics import classification_report, confusion_matrix\n",
    "\n",
    "# The code in the previous cell is already well-structured and functional.\n",
    "# Here are a few improvements for clarity and best practices:\n",
    "\n",
    "# 1. Use inplace=True for fillna is fine, but consider using a more robust imputation if needed.\n",
    "# 2. Ensure all categorical columns are encoded, and avoid overwriting the same LabelEncoder instance.\n",
    "# 3. Add comments for clarity and ensure all steps are reproducible.\n",
    "\n",
    "# Improved version:\n",
    "\n",
    "import matplotlib.pyplot as plt\n",
    "\n",
    "# 1. Load Dataset\n",
    "df = pd.read_csv(\"fault_data.csv\")  # Replace with your filename\n",
    "\n",
    "# 2. Display Basic Info\n",
    "print(\"Shape:\", df.shape)\n",
    "print(\"\\nData Sample:\\n\", df.head())\n",
    "\n",
    "# 3. Handle Missing Values (Forward fill as a simple strategy)\n",
    "df.fillna(method='ffill', inplace=True)\n",
    "\n",
    "# 4. Encode Categorical Columns\n",
    "label_cols = ['Fault Type', 'Weather Condition', 'Maintenance Status', 'Component Health']\n",
    "encoders = {}\n",
    "for col in label_cols:\n",
    "    le = LabelEncoder()\n",
    "    df[col] = le.fit_transform(df[col])\n",
    "    encoders[col] = le\n",
    "\n",
    "# 5. Features and Labels\n",
    "feature_cols = ['Voltage (V)', 'Current (A)', 'Power Load (MW)', 'Temperature (°C)', 'Wind Speed (km/h)',\n",
    "                'Weather Condition', 'Maintenance Status', 'Component Health']\n",
    "X = df[feature_cols]\n",
    "y = df['Fault Type']\n",
    "\n",
    "# 6. Scale numeric features\n",
    "scaler = StandardScaler()\n",
    "X_scaled = scaler.fit_transform(X)\n",
    "\n",
    "# 7. Split Data\n",
    "X_train, X_test, y_train, y_test = train_test_split(X_scaled, y, test_size=0.25, random_state=42)\n",
    "\n",
    "# 8. Train Random Forest Classifier\n",
    "model = RandomForestClassifier(n_estimators=100, random_state=42)\n",
    "model.fit(X_train, y_train)\n",
    "\n",
    "# 9. Predict & Evaluate\n",
    "y_pred = model.predict(X_test)\n",
    "print(\"\\nClassification Report:\\n\", classification_report(y_test, y_pred))\n",
    "\n",
    "# 10. Confusion Matrix\n",
    "plt.figure(figsize=(8, 5))\n",
    "sns.heatmap(confusion_matrix(y_test, y_pred), annot=True, fmt='d', cmap='Blues')\n",
    "plt.title('Confusion Matrix')\n",
    "plt.xlabel('Predicted')\n",
    "plt.ylabel('Actual')\n",
    "plt.show()"
   ]
  }
 ],
 "metadata": {
  "kernelspec": {
   "display_name": "Python 3",
   "language": "python",
   "name": "python3"
  },
  "language_info": {
   "codemirror_mode": {
    "name": "ipython",
    "version": 3
   },
   "file_extension": ".py",
   "mimetype": "text/x-python",
   "name": "python",
   "nbconvert_exporter": "python",
   "pygments_lexer": "ipython3",
   "version": "3.12.0"
  }
 },
 "nbformat": 4,
 "nbformat_minor": 5
}
